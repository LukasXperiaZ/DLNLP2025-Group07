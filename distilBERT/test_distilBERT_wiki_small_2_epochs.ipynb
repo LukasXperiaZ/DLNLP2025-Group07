{
 "cells": [
  {
   "cell_type": "code",
   "execution_count": null,
   "id": "7c0b9639",
   "metadata": {},
   "outputs": [
    {
     "name": "stdout",
     "output_type": "stream",
     "text": [
      "DistilBertForSequenceClassification(\n",
      "  (distilbert): DistilBertModel(\n",
      "    (embeddings): Embeddings(\n",
      "      (word_embeddings): Embedding(30522, 768, padding_idx=0)\n",
      "      (position_embeddings): Embedding(512, 768)\n",
      "      (LayerNorm): LayerNorm((768,), eps=1e-12, elementwise_affine=True)\n",
      "      (dropout): Dropout(p=0.1, inplace=False)\n",
      "    )\n",
      "    (transformer): Transformer(\n",
      "      (layer): ModuleList(\n",
      "        (0-3): 4 x TransformerBlock(\n",
      "          (attention): DistilBertSdpaAttention(\n",
      "            (dropout): Dropout(p=0.1, inplace=False)\n",
      "            (q_lin): Linear(in_features=768, out_features=768, bias=True)\n",
      "            (k_lin): Linear(in_features=768, out_features=768, bias=True)\n",
      "            (v_lin): Linear(in_features=768, out_features=768, bias=True)\n",
      "            (out_lin): Linear(in_features=768, out_features=768, bias=True)\n",
      "          )\n",
      "          (sa_layer_norm): LayerNorm((768,), eps=1e-12, elementwise_affine=True)\n",
      "          (ffn): FFN(\n",
      "            (dropout): Dropout(p=0.1, inplace=False)\n",
      "            (lin1): Linear(in_features=768, out_features=3072, bias=True)\n",
      "            (lin2): Linear(in_features=3072, out_features=768, bias=True)\n",
      "            (activation): GELUActivation()\n",
      "          )\n",
      "          (output_layer_norm): LayerNorm((768,), eps=1e-12, elementwise_affine=True)\n",
      "        )\n",
      "      )\n",
      "    )\n",
      "  )\n",
      "  (pre_classifier): Linear(in_features=768, out_features=768, bias=True)\n",
      "  (classifier): Linear(in_features=768, out_features=2, bias=True)\n",
      "  (dropout): Dropout(p=0.2, inplace=False)\n",
      ")\n",
      "\n",
      "Teacher model parameters: 109,482,240\n",
      "Student model parameters: 52,779,266\n",
      "Student model is roughly 48.21% the size of the teacher model.\n"
     ]
    }
   ],
   "source": [
    "from transformers import BertModel, AutoTokenizer, AutoConfig, DistilBertForSequenceClassification\n",
    "import torch\n",
    "\n",
    "# 1. Load the Tokenizer (shared or compatible for both)\n",
    "# It's common to use the teacher's tokenizer or a tokenizer compatible with both.\n",
    "# For DistilBERT, the tokenizer is often the same as BERT's.\n",
    "tokenizer_name = 'bert-base-uncased' # Or 'distilbert-base-uncased'\n",
    "tokenizer = AutoTokenizer.from_pretrained(tokenizer_name)\n",
    "\n",
    "# 2. Load the Teacher Model (BERT-base)\n",
    "teacher_model_name = 'bert-base-uncased'\n",
    "teacher_model = BertModel.from_pretrained(teacher_model_name)\n",
    "teacher_model.eval() # Set to evaluation mode, as we're not training it here.\n",
    "\n",
    "# 3. Load the Student Model (DistilBERT-wiki-small) - our model\n",
    "dump_path = \"./serialization_dir/distilBERT_small_4_layer_2_epochs\"\n",
    "distilBERT_wiki_weights_path = dump_path + \"/model_epoch_0.pth\"\n",
    "\n",
    "config = AutoConfig.from_pretrained(dump_path)\n",
    "# Ensure num_labels is set in the config, as this drives the classification head size\n",
    "config.num_labels = 2\n",
    "config.return_dict = True # Make sure the config explicitly sets return_dict to True\n",
    "config.output_hidden_states = False\n",
    "\n",
    "distilBERT_wiki_small = DistilBertForSequenceClassification(config)\n",
    "\n",
    "# Load the base model state_dict (only the distilbert part)\n",
    "base_model_state_dict = torch.load(distilBERT_wiki_weights_path, map_location='cpu')\n",
    "\n",
    "distilBERT_wiki_small.distilbert.load_state_dict(base_model_state_dict, strict=False)\n",
    "\n",
    "print(distilBERT_wiki_small)\n",
    "# Let's check the number of parameters to see the size difference\n",
    "teacher_params = sum(p.numel() for p in teacher_model.parameters())\n",
    "student_params = sum(p.numel() for p in distilBERT_wiki_small.parameters())\n",
    "\n",
    "print(f\"\\nTeacher model parameters: {teacher_params:,}\")\n",
    "print(f\"Student model parameters: {student_params:,}\")\n",
    "print(f\"Student model is roughly {student_params/teacher_params:.2%} the size of the teacher model.\")"
   ]
  },
  {
   "cell_type": "code",
   "execution_count": 3,
   "id": "48b5bd11",
   "metadata": {},
   "outputs": [
    {
     "name": "stdout",
     "output_type": "stream",
     "text": [
      "DatasetDict({\n",
      "    train: Dataset({\n",
      "        features: ['sentence', 'label', 'idx'],\n",
      "        num_rows: 67349\n",
      "    })\n",
      "    validation: Dataset({\n",
      "        features: ['sentence', 'label', 'idx'],\n",
      "        num_rows: 872\n",
      "    })\n",
      "    test: Dataset({\n",
      "        features: ['sentence', 'label', 'idx'],\n",
      "        num_rows: 1821\n",
      "    })\n",
      "})\n"
     ]
    }
   ],
   "source": [
    "from datasets import load_dataset\n",
    "\n",
    "# Load the SST-2 dataset from Hugging Face Datasets\n",
    "sst2_dataset = load_dataset('glue', 'sst2')\n",
    "\n",
    "# The dataset object contains train, validation (which we'll use as development), and test splits\n",
    "print(sst2_dataset)\n",
    "\n",
    "# Define a function to tokenize the text data with padding and truncation\n",
    "max_length = 128\n",
    "def tokenize_function(examples):\n",
    "    return tokenizer(examples[\"sentence\"], truncation=True, padding='max_length', max_length=max_length)\n",
    "\n",
    "# Apply the tokenization to all splits of the dataset\n",
    "tokenized_sst2 = sst2_dataset.map(tokenize_function, batched=True)\n",
    "\n",
    "# The 'label' column is already numerical, so we don't need to process it further for SST-2.\n",
    "# We will, however, remove the original 'sentence' column as the model will use the tokenized inputs.\n",
    "tokenized_sst2 = tokenized_sst2.remove_columns([\"sentence\", \"idx\"])\n",
    "\n",
    "# Rename the 'label' column to 'labels' as that's the expected name by PyTorch models\n",
    "tokenized_sst2 = tokenized_sst2.rename_column(\"label\", \"labels\")"
   ]
  },
  {
   "cell_type": "code",
   "execution_count": 4,
   "id": "5c28e4b8",
   "metadata": {},
   "outputs": [
    {
     "name": "stdout",
     "output_type": "stream",
     "text": [
      "Trainer and model are ready for training!\n"
     ]
    }
   ],
   "source": [
    "from transformers import TrainingArguments, Trainer\n",
    "import evaluate\n",
    "import numpy as np\n",
    "\n",
    "repository_name = \"LukasXperiaZ/distilBERT_wiki_small_2_epochs_SST-2\"\n",
    "\n",
    "# 1. Define Training Arguments\n",
    "output_dir = './distilbert-wiki-small-2-epochs-sst2' # Directory to save the trained model and logs\n",
    "training_args = TrainingArguments(\n",
    "    output_dir=output_dir,\n",
    "    learning_rate=2e-5,\n",
    "    per_device_train_batch_size=512,    # 512 good for 24 GB VRAM\n",
    "    per_device_eval_batch_size=32,\n",
    "    num_train_epochs=5,\n",
    "    weight_decay=0.01,\n",
    "    eval_strategy=\"epoch\", # Evaluate at the end of each epoch\n",
    "    save_strategy=\"epoch\", # Save the model at the end of each epoch\n",
    "    load_best_model_at_end=True, # Load the best model based on evaluation metric\n",
    "    metric_for_best_model=\"accuracy\",\n",
    "    report_to=\"none\", # Or \"wandb\" if you want to use Weights & Biases for logging\n",
    "    hub_model_id=repository_name\n",
    ")\n",
    "\n",
    "# 2. Load the Pre-trained Model for Sequence Classification\n",
    "model = distilBERT_wiki_small\n",
    "\n",
    "# 3. Load the Evaluation Metric\n",
    "metric = evaluate.load(\"accuracy\")\n",
    "\n",
    "def compute_metrics(eval_pred):\n",
    "    logits, labels = eval_pred\n",
    "    predictions = np.argmax(logits, axis=-1)\n",
    "    return metric.compute(predictions=predictions, references=labels)\n",
    "\n",
    "# 4. Create a Trainer Instance\n",
    "trainer = Trainer(\n",
    "    model=model,\n",
    "    args=training_args,\n",
    "    train_dataset=tokenized_sst2[\"train\"],\n",
    "    eval_dataset=tokenized_sst2[\"validation\"], # Using the 'validation' split as the development set\n",
    "    compute_metrics=compute_metrics,\n",
    ")\n",
    "\n",
    "print(\"Trainer and model are ready for training!\")"
   ]
  },
  {
   "cell_type": "code",
   "execution_count": 5,
   "id": "52cdabbb",
   "metadata": {},
   "outputs": [
    {
     "data": {
      "text/html": [
       "\n",
       "    <div>\n",
       "      \n",
       "      <progress value='660' max='660' style='width:300px; height:20px; vertical-align: middle;'></progress>\n",
       "      [660/660 03:57, Epoch 5/5]\n",
       "    </div>\n",
       "    <table border=\"1\" class=\"dataframe\">\n",
       "  <thead>\n",
       " <tr style=\"text-align: left;\">\n",
       "      <th>Epoch</th>\n",
       "      <th>Training Loss</th>\n",
       "      <th>Validation Loss</th>\n",
       "      <th>Accuracy</th>\n",
       "    </tr>\n",
       "  </thead>\n",
       "  <tbody>\n",
       "    <tr>\n",
       "      <td>1</td>\n",
       "      <td>No log</td>\n",
       "      <td>0.697585</td>\n",
       "      <td>0.474771</td>\n",
       "    </tr>\n",
       "    <tr>\n",
       "      <td>2</td>\n",
       "      <td>No log</td>\n",
       "      <td>0.696239</td>\n",
       "      <td>0.480505</td>\n",
       "    </tr>\n",
       "    <tr>\n",
       "      <td>3</td>\n",
       "      <td>No log</td>\n",
       "      <td>0.696545</td>\n",
       "      <td>0.506881</td>\n",
       "    </tr>\n",
       "    <tr>\n",
       "      <td>4</td>\n",
       "      <td>0.683000</td>\n",
       "      <td>0.696301</td>\n",
       "      <td>0.503440</td>\n",
       "    </tr>\n",
       "    <tr>\n",
       "      <td>5</td>\n",
       "      <td>0.683000</td>\n",
       "      <td>0.696510</td>\n",
       "      <td>0.483945</td>\n",
       "    </tr>\n",
       "  </tbody>\n",
       "</table><p>"
      ],
      "text/plain": [
       "<IPython.core.display.HTML object>"
      ]
     },
     "metadata": {},
     "output_type": "display_data"
    },
    {
     "data": {
      "text/plain": [
       "TrainOutput(global_step=660, training_loss=0.6825483148748225, metrics={'train_runtime': 237.9087, 'train_samples_per_second': 1415.438, 'train_steps_per_second': 2.774, 'total_flos': 7485800358704640.0, 'train_loss': 0.6825483148748225, 'epoch': 5.0})"
      ]
     },
     "execution_count": 5,
     "metadata": {},
     "output_type": "execute_result"
    }
   ],
   "source": [
    "trainer.train()"
   ]
  },
  {
   "cell_type": "code",
   "execution_count": 6,
   "id": "c34d79a4",
   "metadata": {},
   "outputs": [
    {
     "data": {
      "application/vnd.jupyter.widget-view+json": {
       "model_id": "bf689559a9d645fa9c8dad14de19e6c9",
       "version_major": 2,
       "version_minor": 0
      },
      "text/plain": [
       "model.safetensors:   0%|          | 0.00/211M [00:00<?, ?B/s]"
      ]
     },
     "metadata": {},
     "output_type": "display_data"
    },
    {
     "data": {
      "application/vnd.jupyter.widget-view+json": {
       "model_id": "45b3392ba626490fbac11581344873c7",
       "version_major": 2,
       "version_minor": 0
      },
      "text/plain": [
       "training_args.bin:   0%|          | 0.00/5.78k [00:00<?, ?B/s]"
      ]
     },
     "metadata": {},
     "output_type": "display_data"
    },
    {
     "data": {
      "application/vnd.jupyter.widget-view+json": {
       "model_id": "abc0826e350842568a22fc4ce2c54dbf",
       "version_major": 2,
       "version_minor": 0
      },
      "text/plain": [
       "Upload 2 LFS files:   0%|          | 0/2 [00:00<?, ?it/s]"
      ]
     },
     "metadata": {},
     "output_type": "display_data"
    },
    {
     "data": {
      "application/vnd.jupyter.widget-view+json": {
       "model_id": "5ff0b94cf83840ea92457f08aa5c6b70",
       "version_major": 2,
       "version_minor": 0
      },
      "text/plain": [
       "README.md:   0%|          | 0.00/1.62k [00:00<?, ?B/s]"
      ]
     },
     "metadata": {},
     "output_type": "display_data"
    },
    {
     "data": {
      "text/plain": [
       "CommitInfo(commit_url='https://huggingface.co/LukasXperiaZ/distilBERT_wiki_small_2_epochs_SST-2/commit/3c80cc91b13d6ea20077629b6639740a788602a7', commit_message='Upload BERT tokenizer for DistilBERT model', commit_description='', oid='3c80cc91b13d6ea20077629b6639740a788602a7', pr_url=None, repo_url=RepoUrl('https://huggingface.co/LukasXperiaZ/distilBERT_wiki_small_2_epochs_SST-2', endpoint='https://huggingface.co', repo_type='model', repo_id='LukasXperiaZ/distilBERT_wiki_small_2_epochs_SST-2'), pr_revision=None, pr_num=None)"
      ]
     },
     "execution_count": 6,
     "metadata": {},
     "output_type": "execute_result"
    }
   ],
   "source": [
    "# Upload the model to huggingface\n",
    "trainer.push_to_hub(commit_message=\"Add best DistilBERT wiki_small_epoch_2 model trained on SST-2\")\n",
    "tokenizer.push_to_hub(\n",
    "    repo_id=repository_name,\n",
    "    commit_message=\"Upload BERT tokenizer for DistilBERT model\",\n",
    "    blocking=True,  # Wait until the push is complete\n",
    ")"
   ]
  },
  {
   "cell_type": "markdown",
   "id": "1853c38c",
   "metadata": {},
   "source": [
    "Validation\n",
    "===\n",
    "Execute from here on if you just want to evaluate"
   ]
  },
  {
   "cell_type": "code",
   "execution_count": 1,
   "id": "11317e44",
   "metadata": {},
   "outputs": [
    {
     "data": {
      "application/vnd.jupyter.widget-view+json": {
       "model_id": "03cf5c0dd6b245d39f9d9fa8d17a74c3",
       "version_major": 2,
       "version_minor": 0
      },
      "text/plain": [
       "tokenizer_config.json:   0%|          | 0.00/1.22k [00:00<?, ?B/s]"
      ]
     },
     "metadata": {},
     "output_type": "display_data"
    },
    {
     "data": {
      "application/vnd.jupyter.widget-view+json": {
       "model_id": "d3294db4d5d740fd8d3e299dbf791cd6",
       "version_major": 2,
       "version_minor": 0
      },
      "text/plain": [
       "vocab.txt:   0%|          | 0.00/232k [00:00<?, ?B/s]"
      ]
     },
     "metadata": {},
     "output_type": "display_data"
    },
    {
     "data": {
      "application/vnd.jupyter.widget-view+json": {
       "model_id": "8a4657a748084fa6a211ae7e696b9d74",
       "version_major": 2,
       "version_minor": 0
      },
      "text/plain": [
       "tokenizer.json:   0%|          | 0.00/711k [00:00<?, ?B/s]"
      ]
     },
     "metadata": {},
     "output_type": "display_data"
    },
    {
     "data": {
      "application/vnd.jupyter.widget-view+json": {
       "model_id": "e4616f349d1146e79eea7a6edce621b8",
       "version_major": 2,
       "version_minor": 0
      },
      "text/plain": [
       "special_tokens_map.json:   0%|          | 0.00/125 [00:00<?, ?B/s]"
      ]
     },
     "metadata": {},
     "output_type": "display_data"
    },
    {
     "data": {
      "application/vnd.jupyter.widget-view+json": {
       "model_id": "96edbacda04b4ded926071887e76e503",
       "version_major": 2,
       "version_minor": 0
      },
      "text/plain": [
       "config.json:   0%|          | 0.00/568 [00:00<?, ?B/s]"
      ]
     },
     "metadata": {},
     "output_type": "display_data"
    },
    {
     "data": {
      "application/vnd.jupyter.widget-view+json": {
       "model_id": "e9fffb8628ff4608b84feaf3349ed17a",
       "version_major": 2,
       "version_minor": 0
      },
      "text/plain": [
       "model.safetensors:   0%|          | 0.00/211M [00:00<?, ?B/s]"
      ]
     },
     "metadata": {},
     "output_type": "display_data"
    },
    {
     "data": {
      "application/vnd.jupyter.widget-view+json": {
       "model_id": "e742ad07d90141d88af997d799398020",
       "version_major": 2,
       "version_minor": 0
      },
      "text/plain": [
       "Map:   0%|          | 0/872 [00:00<?, ? examples/s]"
      ]
     },
     "metadata": {},
     "output_type": "display_data"
    },
    {
     "name": "stdout",
     "output_type": "stream",
     "text": [
      "Validation set results (loaded from Hugging Face Hub): {'accuracy': 0.5068807339449541}\n"
     ]
    }
   ],
   "source": [
    "from transformers import AutoModelForSequenceClassification, AutoTokenizer\n",
    "from datasets import load_dataset\n",
    "from torch.utils.data import DataLoader\n",
    "import evaluate\n",
    "import torch\n",
    "\n",
    "# 1. Specify your repository name on Hugging Face Hub\n",
    "repository_name = 'LukasXperiaZ/distilBERT_wiki_small_2_epochs_SST-2'\n",
    "\n",
    "# 2. Load the tokenizer\n",
    "tokenizer = AutoTokenizer.from_pretrained(repository_name)\n",
    "\n",
    "# 3. Load the model from Hugging Face Hub\n",
    "model = AutoModelForSequenceClassification.from_pretrained(repository_name)\n",
    "\n",
    "# 4. Load the SST-2 validation dataset and tokenize it (if not already done)\n",
    "sst2_validation_dataset = load_dataset('glue', 'sst2', split='validation')\n",
    "\n",
    "def tokenize_function(examples):\n",
    "    return tokenizer(examples[\"sentence\"], truncation=True, padding='max_length', max_length=128)\n",
    "\n",
    "tokenized_sst2_validation = sst2_validation_dataset.map(tokenize_function, batched=True)\n",
    "tokenized_sst2_validation = tokenized_sst2_validation.remove_columns([\"sentence\", \"idx\"])\n",
    "tokenized_sst2_validation = tokenized_sst2_validation.rename_column(\"label\", \"labels\")\n",
    "tokenized_sst2_validation.set_format(\"torch\", columns=[\"input_ids\", \"attention_mask\", \"labels\"])\n",
    "\n",
    "# 5. Create a DataLoader for the validation set\n",
    "eval_dataloader = DataLoader(tokenized_sst2_validation, batch_size=32) # Use the same eval batch size\n",
    "\n",
    "# 6. Define the evaluation metric\n",
    "metric = evaluate.load(\"accuracy\")\n",
    "\n",
    "# 7. Move the model to the appropriate device\n",
    "device = torch.device(\"cuda\") if torch.cuda.is_available() else torch.device(\"cpu\")\n",
    "model.to(device)\n",
    "model.eval()\n",
    "\n",
    "# 8. Evaluation loop\n",
    "for batch in eval_dataloader:\n",
    "    batch = {k: v.to(device) for k, v in batch.items()}\n",
    "    with torch.no_grad():\n",
    "        outputs = model(**batch)\n",
    "    logits = outputs.logits\n",
    "    predictions = torch.argmax(logits, dim=-1)\n",
    "    metric.add_batch(predictions=predictions, references=batch['labels'])\n",
    "\n",
    "# 9. Print the evaluation results\n",
    "eval_metric = metric.compute()\n",
    "print(f\"Validation set results (loaded from Hugging Face Hub): {eval_metric}\")"
   ]
  }
 ],
 "metadata": {
  "kernelspec": {
   "display_name": ".venv",
   "language": "python",
   "name": "python3"
  },
  "language_info": {
   "codemirror_mode": {
    "name": "ipython",
    "version": 3
   },
   "file_extension": ".py",
   "mimetype": "text/x-python",
   "name": "python",
   "nbconvert_exporter": "python",
   "pygments_lexer": "ipython3",
   "version": "3.10.12"
  }
 },
 "nbformat": 4,
 "nbformat_minor": 5
}
