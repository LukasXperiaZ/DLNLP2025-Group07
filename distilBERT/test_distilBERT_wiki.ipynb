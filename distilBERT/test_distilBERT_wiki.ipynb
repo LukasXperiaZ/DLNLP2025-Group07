{
 "cells": [
  {
   "cell_type": "code",
   "execution_count": 1,
   "id": "a96aa099",
   "metadata": {},
   "outputs": [
    {
     "name": "stdout",
     "output_type": "stream",
     "text": [
      "DistilBertForSequenceClassification(\n",
      "  (distilbert): DistilBertModel(\n",
      "    (embeddings): Embeddings(\n",
      "      (word_embeddings): Embedding(30522, 768, padding_idx=0)\n",
      "      (position_embeddings): Embedding(512, 768)\n",
      "      (LayerNorm): LayerNorm((768,), eps=1e-12, elementwise_affine=True)\n",
      "      (dropout): Dropout(p=0.1, inplace=False)\n",
      "    )\n",
      "    (transformer): Transformer(\n",
      "      (layer): ModuleList(\n",
      "        (0-5): 6 x TransformerBlock(\n",
      "          (attention): DistilBertSdpaAttention(\n",
      "            (dropout): Dropout(p=0.1, inplace=False)\n",
      "            (q_lin): Linear(in_features=768, out_features=768, bias=True)\n",
      "            (k_lin): Linear(in_features=768, out_features=768, bias=True)\n",
      "            (v_lin): Linear(in_features=768, out_features=768, bias=True)\n",
      "            (out_lin): Linear(in_features=768, out_features=768, bias=True)\n",
      "          )\n",
      "          (sa_layer_norm): LayerNorm((768,), eps=1e-12, elementwise_affine=True)\n",
      "          (ffn): FFN(\n",
      "            (dropout): Dropout(p=0.1, inplace=False)\n",
      "            (lin1): Linear(in_features=768, out_features=3072, bias=True)\n",
      "            (lin2): Linear(in_features=3072, out_features=768, bias=True)\n",
      "            (activation): GELUActivation()\n",
      "          )\n",
      "          (output_layer_norm): LayerNorm((768,), eps=1e-12, elementwise_affine=True)\n",
      "        )\n",
      "      )\n",
      "    )\n",
      "  )\n",
      "  (pre_classifier): Linear(in_features=768, out_features=768, bias=True)\n",
      "  (classifier): Linear(in_features=768, out_features=2, bias=True)\n",
      "  (dropout): Dropout(p=0.2, inplace=False)\n",
      ")\n",
      "\n",
      "Teacher model parameters: 109,482,240\n",
      "Student model parameters: 66,955,010\n",
      "Student model is roughly 61.16% the size of the teacher model.\n"
     ]
    }
   ],
   "source": [
    "from transformers import BertModel, AutoTokenizer, AutoConfig, DistilBertForSequenceClassification\n",
    "import torch\n",
    "\n",
    "# 1. Load the Tokenizer (shared or compatible for both)\n",
    "# It's common to use the teacher's tokenizer or a tokenizer compatible with both.\n",
    "# For DistilBERT, the tokenizer is often the same as BERT's.\n",
    "tokenizer_name = 'bert-base-uncased' # Or 'distilbert-base-uncased'\n",
    "tokenizer = AutoTokenizer.from_pretrained(tokenizer_name)\n",
    "\n",
    "# 2. Load the Teacher Model (BERT-base)\n",
    "teacher_model_name = 'bert-base-uncased'\n",
    "teacher_model = BertModel.from_pretrained(teacher_model_name)\n",
    "teacher_model.eval() # Set to evaluation mode, as we're not training it here.\n",
    "\n",
    "# 3. Load the Student Model (DistilBERT-wiki) - our model\n",
    "dump_path = \"./serialization_dir/distilBERT\"\n",
    "distilBERT_wiki_weights_path = dump_path + \"/checkpoint.pth\"\n",
    "\n",
    "config = AutoConfig.from_pretrained(dump_path)\n",
    "# Ensure num_labels is set in the config, as this drives the classification head size\n",
    "config.num_labels = 2\n",
    "config.return_dict = True # Make sure the config explicitly sets return_dict to True\n",
    "config.output_hidden_states = False\n",
    "\n",
    "distilBERT_wiki = DistilBertForSequenceClassification(config)\n",
    "\n",
    "# Load the base model state_dict (only the distilbert part)\n",
    "base_model_state_dict = torch.load(distilBERT_wiki_weights_path, map_location='cpu')\n",
    "\n",
    "distilBERT_wiki.distilbert.load_state_dict(base_model_state_dict, strict=False)\n",
    "\n",
    "print(distilBERT_wiki)\n",
    "# Let's check the number of parameters to see the size difference\n",
    "teacher_params = sum(p.numel() for p in teacher_model.parameters())\n",
    "student_params = sum(p.numel() for p in distilBERT_wiki.parameters())\n",
    "\n",
    "print(f\"\\nTeacher model parameters: {teacher_params:,}\")\n",
    "print(f\"Student model parameters: {student_params:,}\")\n",
    "print(f\"Student model is roughly {student_params/teacher_params:.2%} the size of the teacher model.\")"
   ]
  },
  {
   "cell_type": "code",
   "execution_count": 2,
   "id": "0bdc2053",
   "metadata": {},
   "outputs": [
    {
     "name": "stdout",
     "output_type": "stream",
     "text": [
      "DatasetDict({\n",
      "    train: Dataset({\n",
      "        features: ['sentence', 'label', 'idx'],\n",
      "        num_rows: 67349\n",
      "    })\n",
      "    validation: Dataset({\n",
      "        features: ['sentence', 'label', 'idx'],\n",
      "        num_rows: 872\n",
      "    })\n",
      "    test: Dataset({\n",
      "        features: ['sentence', 'label', 'idx'],\n",
      "        num_rows: 1821\n",
      "    })\n",
      "})\n"
     ]
    }
   ],
   "source": [
    "from datasets import load_dataset\n",
    "\n",
    "# Load the SST-2 dataset from Hugging Face Datasets\n",
    "sst2_dataset = load_dataset('glue', 'sst2')\n",
    "\n",
    "# The dataset object contains train, validation (which we'll use as development), and test splits\n",
    "print(sst2_dataset)\n",
    "\n",
    "# Define a function to tokenize the text data with padding and truncation\n",
    "max_length = 128\n",
    "def tokenize_function(examples):\n",
    "    return tokenizer(examples[\"sentence\"], truncation=True, padding='max_length', max_length=max_length) # , return_token_type_ids=False\n",
    "\n",
    "# Apply the tokenization to all splits of the dataset\n",
    "tokenized_sst2 = sst2_dataset.map(tokenize_function, batched=True)\n",
    "\n",
    "# The 'label' column is already numerical, so we don't need to process it further for SST-2.\n",
    "# We will, however, remove the original 'sentence' column as the model will use the tokenized inputs.\n",
    "tokenized_sst2 = tokenized_sst2.remove_columns([\"sentence\", \"idx\"])\n",
    "\n",
    "# Rename the 'label' column to 'labels' as that's the expected name by PyTorch models\n",
    "tokenized_sst2 = tokenized_sst2.rename_column(\"label\", \"labels\")"
   ]
  },
  {
   "cell_type": "code",
   "execution_count": 3,
   "id": "e2f10d37",
   "metadata": {},
   "outputs": [
    {
     "name": "stdout",
     "output_type": "stream",
     "text": [
      "Trainer and model are ready for training!\n"
     ]
    }
   ],
   "source": [
    "from transformers import TrainingArguments, Trainer\n",
    "import evaluate\n",
    "import numpy as np\n",
    "\n",
    "repository_name = \"LukasXperiaZ/distilBERT_wiki_SST-2\"\n",
    "\n",
    "# 1. Define Training Arguments\n",
    "output_dir = './distilbert-wiki-sst2' # Directory to save the trained model and logs\n",
    "training_args = TrainingArguments(\n",
    "    output_dir=output_dir,\n",
    "    learning_rate=2e-5,\n",
    "    per_device_train_batch_size=512,    # 512 good for 24 GB VRAM\n",
    "    per_device_eval_batch_size=32,\n",
    "    num_train_epochs=5,\n",
    "    weight_decay=0.01,\n",
    "    eval_strategy=\"epoch\", # Evaluate at the end of each epoch\n",
    "    save_strategy=\"epoch\", # Save the model at the end of each epoch\n",
    "    load_best_model_at_end=True, # Load the best model based on evaluation metric\n",
    "    metric_for_best_model=\"accuracy\",\n",
    "    report_to=\"none\", # Or \"wandb\" if you want to use Weights & Biases for logging\n",
    "    hub_model_id=repository_name\n",
    ")\n",
    "\n",
    "# 2. Load the Pre-trained Model\n",
    "model = distilBERT_wiki\n",
    "\n",
    "# 3. Load the Evaluation Metric\n",
    "metric = evaluate.load(\"accuracy\")\n",
    "\n",
    "def compute_metrics(eval_pred):\n",
    "    logits, labels = eval_pred # logits is now a NumPy array, labels is a NumPy array\n",
    "    predictions = np.argmax(logits, axis=-1)\n",
    "    return metric.compute(predictions=predictions, references=labels)\n",
    "\n",
    "# 4. Create a Trainer Instance\n",
    "trainer = Trainer(\n",
    "    model=model,\n",
    "    args=training_args,\n",
    "    train_dataset=tokenized_sst2[\"train\"],\n",
    "    eval_dataset=tokenized_sst2[\"validation\"], # Using the 'validation' split as the development set\n",
    "    compute_metrics=compute_metrics,\n",
    ")\n",
    "\n",
    "print(\"Trainer and model are ready for training!\")"
   ]
  },
  {
   "cell_type": "code",
   "execution_count": 4,
   "id": "845a1f45",
   "metadata": {},
   "outputs": [
    {
     "data": {
      "text/html": [
       "\n",
       "    <div>\n",
       "      \n",
       "      <progress value='660' max='660' style='width:300px; height:20px; vertical-align: middle;'></progress>\n",
       "      [660/660 05:47, Epoch 5/5]\n",
       "    </div>\n",
       "    <table border=\"1\" class=\"dataframe\">\n",
       "  <thead>\n",
       " <tr style=\"text-align: left;\">\n",
       "      <th>Epoch</th>\n",
       "      <th>Training Loss</th>\n",
       "      <th>Validation Loss</th>\n",
       "      <th>Accuracy</th>\n",
       "    </tr>\n",
       "  </thead>\n",
       "  <tbody>\n",
       "    <tr>\n",
       "      <td>1</td>\n",
       "      <td>No log</td>\n",
       "      <td>0.699653</td>\n",
       "      <td>0.477064</td>\n",
       "    </tr>\n",
       "    <tr>\n",
       "      <td>2</td>\n",
       "      <td>No log</td>\n",
       "      <td>0.696551</td>\n",
       "      <td>0.480505</td>\n",
       "    </tr>\n",
       "    <tr>\n",
       "      <td>3</td>\n",
       "      <td>No log</td>\n",
       "      <td>0.696166</td>\n",
       "      <td>0.526376</td>\n",
       "    </tr>\n",
       "    <tr>\n",
       "      <td>4</td>\n",
       "      <td>0.683000</td>\n",
       "      <td>0.696124</td>\n",
       "      <td>0.563073</td>\n",
       "    </tr>\n",
       "    <tr>\n",
       "      <td>5</td>\n",
       "      <td>0.683000</td>\n",
       "      <td>0.696606</td>\n",
       "      <td>0.488532</td>\n",
       "    </tr>\n",
       "  </tbody>\n",
       "</table><p>"
      ],
      "text/plain": [
       "<IPython.core.display.HTML object>"
      ]
     },
     "metadata": {},
     "output_type": "display_data"
    },
    {
     "data": {
      "text/plain": [
       "TrainOutput(global_step=660, training_loss=0.6825631228360263, metrics={'train_runtime': 349.0671, 'train_samples_per_second': 964.7, 'train_steps_per_second': 1.891, 'total_flos': 1.115193354010368e+16, 'train_loss': 0.6825631228360263, 'epoch': 5.0})"
      ]
     },
     "execution_count": 4,
     "metadata": {},
     "output_type": "execute_result"
    }
   ],
   "source": [
    "trainer.train()"
   ]
  },
  {
   "cell_type": "code",
   "execution_count": 5,
   "id": "9d5837b4",
   "metadata": {},
   "outputs": [
    {
     "data": {
      "application/vnd.jupyter.widget-view+json": {
       "model_id": "79548d865b344cef81c6e66aadb54f87",
       "version_major": 2,
       "version_minor": 0
      },
      "text/plain": [
       "Upload 2 LFS files:   0%|          | 0/2 [00:00<?, ?it/s]"
      ]
     },
     "metadata": {},
     "output_type": "display_data"
    },
    {
     "data": {
      "application/vnd.jupyter.widget-view+json": {
       "model_id": "4e9e1ca047884e148490ab703ff53999",
       "version_major": 2,
       "version_minor": 0
      },
      "text/plain": [
       "model.safetensors:   0%|          | 0.00/268M [00:00<?, ?B/s]"
      ]
     },
     "metadata": {},
     "output_type": "display_data"
    },
    {
     "data": {
      "application/vnd.jupyter.widget-view+json": {
       "model_id": "8e639537e44d4da0a6707295a793727a",
       "version_major": 2,
       "version_minor": 0
      },
      "text/plain": [
       "training_args.bin:   0%|          | 0.00/5.78k [00:00<?, ?B/s]"
      ]
     },
     "metadata": {},
     "output_type": "display_data"
    },
    {
     "data": {
      "application/vnd.jupyter.widget-view+json": {
       "model_id": "1b0e72ea64794217b5f3ffa8358008b7",
       "version_major": 2,
       "version_minor": 0
      },
      "text/plain": [
       "README.md:   0%|          | 0.00/1.59k [00:00<?, ?B/s]"
      ]
     },
     "metadata": {},
     "output_type": "display_data"
    },
    {
     "name": "stderr",
     "output_type": "stream",
     "text": [
      "No files have been modified since last commit. Skipping to prevent empty commit.\n"
     ]
    },
    {
     "data": {
      "text/plain": [
       "CommitInfo(commit_url='https://huggingface.co/LukasXperiaZ/distilBERT_wiki_SST-2/commit/77fa0415bb5fa9708303087aec466c0b689b3574', commit_message='Upload BERT tokenizer for DistilBERT model', commit_description='', oid='77fa0415bb5fa9708303087aec466c0b689b3574', pr_url=None, repo_url=RepoUrl('https://huggingface.co/LukasXperiaZ/distilBERT_wiki_SST-2', endpoint='https://huggingface.co', repo_type='model', repo_id='LukasXperiaZ/distilBERT_wiki_SST-2'), pr_revision=None, pr_num=None)"
      ]
     },
     "execution_count": 5,
     "metadata": {},
     "output_type": "execute_result"
    }
   ],
   "source": [
    "# Upload the model to huggingface\n",
    "trainer.push_to_hub(commit_message=\"Add best DistilBERT wiki model trained on SST-2\")\n",
    "tokenizer.push_to_hub(\n",
    "    repo_id=repository_name,\n",
    "    commit_message=\"Upload BERT tokenizer for DistilBERT model\",\n",
    "    blocking=True,  # Wait until the push is complete\n",
    ")"
   ]
  },
  {
   "cell_type": "markdown",
   "id": "86215914",
   "metadata": {},
   "source": [
    "Validation\n",
    "===\n",
    "Execute from here on if you just want to evaluate"
   ]
  },
  {
   "cell_type": "code",
   "execution_count": 1,
   "id": "6ec7eb24",
   "metadata": {},
   "outputs": [
    {
     "data": {
      "application/vnd.jupyter.widget-view+json": {
       "model_id": "231ed1e7e4694ef3af18afbb2e530d5b",
       "version_major": 2,
       "version_minor": 0
      },
      "text/plain": [
       "model.safetensors:   0%|          | 0.00/268M [00:00<?, ?B/s]"
      ]
     },
     "metadata": {},
     "output_type": "display_data"
    },
    {
     "name": "stdout",
     "output_type": "stream",
     "text": [
      "Validation set results (loaded from Hugging Face Hub): {'accuracy': 0.5630733944954128}\n"
     ]
    }
   ],
   "source": [
    "from transformers import AutoModelForSequenceClassification, AutoTokenizer\n",
    "from datasets import load_dataset\n",
    "from torch.utils.data import DataLoader\n",
    "import evaluate\n",
    "import torch\n",
    "\n",
    "# 1. Specify your repository name on Hugging Face Hub\n",
    "repository_name = 'LukasXperiaZ/distilBERT_wiki_SST-2'\n",
    "\n",
    "# 2. Load the tokenizer\n",
    "tokenizer = AutoTokenizer.from_pretrained(repository_name)\n",
    "\n",
    "# 3. Load the model from Hugging Face Hub\n",
    "model = AutoModelForSequenceClassification.from_pretrained(repository_name)\n",
    "\n",
    "# 4. Load the SST-2 validation dataset and tokenize it (if not already done)\n",
    "sst2_validation_dataset = load_dataset('glue', 'sst2', split='validation')\n",
    "\n",
    "def tokenize_function(examples):\n",
    "    return tokenizer(examples[\"sentence\"], truncation=True, padding='max_length', max_length=128)\n",
    "\n",
    "tokenized_sst2_validation = sst2_validation_dataset.map(tokenize_function, batched=True)\n",
    "tokenized_sst2_validation = tokenized_sst2_validation.remove_columns([\"sentence\", \"idx\"])\n",
    "tokenized_sst2_validation = tokenized_sst2_validation.rename_column(\"label\", \"labels\")\n",
    "tokenized_sst2_validation.set_format(\"torch\", columns=[\"input_ids\", \"attention_mask\", \"labels\"])\n",
    "\n",
    "# 5. Create a DataLoader for the validation set\n",
    "eval_dataloader = DataLoader(tokenized_sst2_validation, batch_size=32) # Use the same eval batch size\n",
    "\n",
    "# 6. Define the evaluation metric\n",
    "metric = evaluate.load(\"accuracy\")\n",
    "\n",
    "# 7. Move the model to the appropriate device\n",
    "device = torch.device(\"cuda\") if torch.cuda.is_available() else torch.device(\"cpu\")\n",
    "model.to(device)\n",
    "model.eval()\n",
    "\n",
    "# 8. Evaluation loop\n",
    "for batch in eval_dataloader:\n",
    "    batch = {k: v.to(device) for k, v in batch.items()}\n",
    "    with torch.no_grad():\n",
    "        outputs = model(**batch)\n",
    "    logits = outputs.logits\n",
    "    predictions = torch.argmax(logits, dim=-1)\n",
    "    metric.add_batch(predictions=predictions, references=batch['labels'])\n",
    "\n",
    "# 9. Print the evaluation results\n",
    "eval_metric = metric.compute()\n",
    "print(f\"Validation set results (loaded from Hugging Face Hub): {eval_metric}\")"
   ]
  }
 ],
 "metadata": {
  "kernelspec": {
   "display_name": "distilbert-py3.10",
   "language": "python",
   "name": "python3"
  },
  "language_info": {
   "codemirror_mode": {
    "name": "ipython",
    "version": 3
   },
   "file_extension": ".py",
   "mimetype": "text/x-python",
   "name": "python",
   "nbconvert_exporter": "python",
   "pygments_lexer": "ipython3",
   "version": "3.10.12"
  }
 },
 "nbformat": 4,
 "nbformat_minor": 5
}
