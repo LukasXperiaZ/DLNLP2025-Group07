{
 "cells": [
  {
   "cell_type": "markdown",
   "id": "a5a706e5",
   "metadata": {},
   "source": [
    "Model exploration\n",
    "==="
   ]
  },
  {
   "cell_type": "code",
   "execution_count": 1,
   "id": "4405c89e",
   "metadata": {},
   "outputs": [
    {
     "name": "stdout",
     "output_type": "stream",
     "text": [
      "Successfully loaded tokenizer: bert-base-uncased\n",
      "Successfully loaded teacher model: bert-base-uncased\n",
      "Successfully loaded student model: distilbert-base-uncased\n",
      "\n",
      "Teacher model parameters: 109,482,240\n",
      "Student model parameters: 66,362,880\n",
      "Student model is roughly 60.62% the size of the teacher model.\n"
     ]
    }
   ],
   "source": [
    "from transformers import BertModel, DistilBertModel, AutoTokenizer\n",
    "\n",
    "# 1. Load the Tokenizer (shared or compatible for both)\n",
    "# It's common to use the teacher's tokenizer or a tokenizer compatible with both.\n",
    "# For DistilBERT, the tokenizer is often the same as BERT's.\n",
    "tokenizer_name = 'bert-base-uncased' # Or 'distilbert-base-uncased'\n",
    "tokenizer = AutoTokenizer.from_pretrained(tokenizer_name)\n",
    "\n",
    "# 2. Load the Teacher Model (BERT-base)\n",
    "teacher_model_name = 'bert-base-uncased'\n",
    "teacher_model = BertModel.from_pretrained(teacher_model_name)\n",
    "teacher_model.eval() # Set to evaluation mode, as we're not training it here.\n",
    "\n",
    "# 3. Load the Student Model (DistilBERT-base)\n",
    "student_model_name = 'distilbert-base-uncased' # This is the model the paper's authors trained and released\n",
    "student_model = DistilBertModel.from_pretrained(student_model_name)\n",
    "student_model.eval() # Also set to evaluation mode for now.\n",
    "\n",
    "# You can print the models to see their architecture (it will be quite long)\n",
    "# print(\"Teacher Model (BERT-base):\")\n",
    "# print(teacher_model)\n",
    "# print(\"\\nStudent Model (DistilBERT-base):\")\n",
    "# print(student_model)\n",
    "\n",
    "print(f\"Successfully loaded tokenizer: {tokenizer_name}\")\n",
    "print(f\"Successfully loaded teacher model: {teacher_model_name}\")\n",
    "print(f\"Successfully loaded student model: {student_model_name}\")\n",
    "\n",
    "# Let's check the number of parameters to see the size difference\n",
    "teacher_params = sum(p.numel() for p in teacher_model.parameters())\n",
    "student_params = sum(p.numel() for p in student_model.parameters())\n",
    "\n",
    "print(f\"\\nTeacher model parameters: {teacher_params:,}\")\n",
    "print(f\"Student model parameters: {student_params:,}\")\n",
    "print(f\"Student model is roughly {student_params/teacher_params:.2%} the size of the teacher model.\")"
   ]
  },
  {
   "cell_type": "code",
   "execution_count": 2,
   "id": "39efe485",
   "metadata": {},
   "outputs": [
    {
     "name": "stdout",
     "output_type": "stream",
     "text": [
      "DatasetDict({\n",
      "    train: Dataset({\n",
      "        features: ['sentence', 'label', 'idx'],\n",
      "        num_rows: 67349\n",
      "    })\n",
      "    validation: Dataset({\n",
      "        features: ['sentence', 'label', 'idx'],\n",
      "        num_rows: 872\n",
      "    })\n",
      "    test: Dataset({\n",
      "        features: ['sentence', 'label', 'idx'],\n",
      "        num_rows: 1821\n",
      "    })\n",
      "})\n",
      "DatasetDict({\n",
      "    train: Dataset({\n",
      "        features: ['labels', 'input_ids', 'token_type_ids', 'attention_mask'],\n",
      "        num_rows: 67349\n",
      "    })\n",
      "    validation: Dataset({\n",
      "        features: ['labels', 'input_ids', 'token_type_ids', 'attention_mask'],\n",
      "        num_rows: 872\n",
      "    })\n",
      "    test: Dataset({\n",
      "        features: ['labels', 'input_ids', 'token_type_ids', 'attention_mask'],\n",
      "        num_rows: 1821\n",
      "    })\n",
      "})\n",
      "{'labels': [0], 'input_ids': [[101, 5342, 2047, 3595, 8496, 2013, 1996, 18643, 3197, 102, 0, 0, 0, 0, 0, 0, 0, 0, 0, 0, 0, 0, 0, 0, 0, 0, 0, 0, 0, 0, 0, 0, 0, 0, 0, 0, 0, 0, 0, 0, 0, 0, 0, 0, 0, 0, 0, 0, 0, 0, 0, 0, 0, 0, 0, 0, 0, 0, 0, 0, 0, 0, 0, 0, 0, 0, 0, 0, 0, 0, 0, 0, 0, 0, 0, 0, 0, 0, 0, 0, 0, 0, 0, 0, 0, 0, 0, 0, 0, 0, 0, 0, 0, 0, 0, 0, 0, 0, 0, 0, 0, 0, 0, 0, 0, 0, 0, 0, 0, 0, 0, 0, 0, 0, 0, 0, 0, 0, 0, 0, 0, 0, 0, 0, 0, 0, 0, 0]], 'token_type_ids': [[0, 0, 0, 0, 0, 0, 0, 0, 0, 0, 0, 0, 0, 0, 0, 0, 0, 0, 0, 0, 0, 0, 0, 0, 0, 0, 0, 0, 0, 0, 0, 0, 0, 0, 0, 0, 0, 0, 0, 0, 0, 0, 0, 0, 0, 0, 0, 0, 0, 0, 0, 0, 0, 0, 0, 0, 0, 0, 0, 0, 0, 0, 0, 0, 0, 0, 0, 0, 0, 0, 0, 0, 0, 0, 0, 0, 0, 0, 0, 0, 0, 0, 0, 0, 0, 0, 0, 0, 0, 0, 0, 0, 0, 0, 0, 0, 0, 0, 0, 0, 0, 0, 0, 0, 0, 0, 0, 0, 0, 0, 0, 0, 0, 0, 0, 0, 0, 0, 0, 0, 0, 0, 0, 0, 0, 0, 0, 0]], 'attention_mask': [[1, 1, 1, 1, 1, 1, 1, 1, 1, 1, 0, 0, 0, 0, 0, 0, 0, 0, 0, 0, 0, 0, 0, 0, 0, 0, 0, 0, 0, 0, 0, 0, 0, 0, 0, 0, 0, 0, 0, 0, 0, 0, 0, 0, 0, 0, 0, 0, 0, 0, 0, 0, 0, 0, 0, 0, 0, 0, 0, 0, 0, 0, 0, 0, 0, 0, 0, 0, 0, 0, 0, 0, 0, 0, 0, 0, 0, 0, 0, 0, 0, 0, 0, 0, 0, 0, 0, 0, 0, 0, 0, 0, 0, 0, 0, 0, 0, 0, 0, 0, 0, 0, 0, 0, 0, 0, 0, 0, 0, 0, 0, 0, 0, 0, 0, 0, 0, 0, 0, 0, 0, 0, 0, 0, 0, 0, 0, 0]]}\n"
     ]
    }
   ],
   "source": [
    "from datasets import load_dataset\n",
    "\n",
    "# Load the SST-2 dataset from Hugging Face Datasets\n",
    "sst2_dataset = load_dataset('glue', 'sst2')\n",
    "\n",
    "# The dataset object contains train, validation (which we'll use as development), and test splits\n",
    "print(sst2_dataset)\n",
    "\n",
    "# Use the tokenizer we loaded earlier\n",
    "\n",
    "# Define a function to tokenize the text data with padding and truncation\n",
    "max_length = 128\n",
    "def tokenize_function(examples):\n",
    "    return tokenizer(examples[\"sentence\"], truncation=True, padding='max_length', max_length=max_length)\n",
    "\n",
    "# Apply the tokenization to all splits of the dataset\n",
    "tokenized_sst2 = sst2_dataset.map(tokenize_function, batched=True)\n",
    "\n",
    "# The 'label' column is already numerical, so we don't need to process it further for SST-2.\n",
    "# We will, however, remove the original 'sentence' column as the model will use the tokenized inputs.\n",
    "tokenized_sst2 = tokenized_sst2.remove_columns([\"sentence\", \"idx\"])\n",
    "\n",
    "# Rename the 'label' column to 'labels' as that's the expected name by PyTorch models\n",
    "tokenized_sst2 = tokenized_sst2.rename_column(\"label\", \"labels\")\n",
    "\n",
    "print(tokenized_sst2)\n",
    "print(tokenized_sst2[\"train\"][:1])"
   ]
  },
  {
   "cell_type": "markdown",
   "id": "19f5733e",
   "metadata": {},
   "source": [
    "Training\n",
    "==="
   ]
  },
  {
   "cell_type": "code",
   "execution_count": null,
   "id": "6059679e",
   "metadata": {},
   "outputs": [
    {
     "name": "stderr",
     "output_type": "stream",
     "text": [
      "Some weights of DistilBertForSequenceClassification were not initialized from the model checkpoint at distilbert-base-uncased and are newly initialized: ['classifier.bias', 'classifier.weight', 'pre_classifier.bias', 'pre_classifier.weight']\n",
      "You should probably TRAIN this model on a down-stream task to be able to use it for predictions and inference.\n"
     ]
    },
    {
     "name": "stdout",
     "output_type": "stream",
     "text": [
      "Trainer and model are ready for training!\n"
     ]
    }
   ],
   "source": [
    "from transformers import TrainingArguments, Trainer\n",
    "from transformers import DistilBertForSequenceClassification\n",
    "import evaluate\n",
    "import numpy as np\n",
    "\n",
    "repository_name = \"LukasXperiaZ/distilBERT_SST-2\"\n",
    "\n",
    "# 1. Define Training Arguments\n",
    "output_dir = './distilbert-sst2' # Directory to save the trained model and logs\n",
    "training_args = TrainingArguments(\n",
    "    output_dir=output_dir,\n",
    "    learning_rate=2e-5,\n",
    "    per_device_train_batch_size=512,    # 512 good for 24 GB VRAM\n",
    "    per_device_eval_batch_size=32,\n",
    "    num_train_epochs=5,\n",
    "    weight_decay=0.01,\n",
    "    eval_strategy=\"epoch\", # Evaluate at the end of each epoch\n",
    "    save_strategy=\"epoch\", # Save the model at the end of each epoch\n",
    "    load_best_model_at_end=True, # Load the best model based on evaluation metric\n",
    "    metric_for_best_model=\"accuracy\",\n",
    "    report_to=\"none\", # Or \"wandb\" if you want to use Weights & Biases for logging\n",
    "    hub_model_id=repository_name\n",
    ")\n",
    "\n",
    "# 2. Load the Pre-trained Model for Sequence Classification\n",
    "num_labels = len(sst2_dataset['train'].features['label'].names) # Get the number of unique labels (0 and 1 for SST-2)\n",
    "model = DistilBertForSequenceClassification.from_pretrained('distilbert-base-uncased', num_labels=num_labels)\n",
    "\n",
    "# 3. Load the Evaluation Metric\n",
    "metric = evaluate.load(\"accuracy\")\n",
    "\n",
    "def compute_metrics(eval_pred):\n",
    "    logits, labels = eval_pred\n",
    "    predictions = np.argmax(logits, axis=-1)\n",
    "    return metric.compute(predictions=predictions, references=labels)\n",
    "\n",
    "# 4. Create a Trainer Instance\n",
    "trainer = Trainer(\n",
    "    model=model,\n",
    "    args=training_args,\n",
    "    train_dataset=tokenized_sst2[\"train\"],\n",
    "    eval_dataset=tokenized_sst2[\"validation\"], # Using the 'validation' split as the development set\n",
    "    compute_metrics=compute_metrics,\n",
    ")\n",
    "\n",
    "print(\"Trainer and model are ready for training!\")"
   ]
  },
  {
   "cell_type": "code",
   "execution_count": 4,
   "id": "ad2f99b3",
   "metadata": {},
   "outputs": [
    {
     "data": {
      "text/html": [
       "\n",
       "    <div>\n",
       "      \n",
       "      <progress value='660' max='660' style='width:300px; height:20px; vertical-align: middle;'></progress>\n",
       "      [660/660 05:39, Epoch 5/5]\n",
       "    </div>\n",
       "    <table border=\"1\" class=\"dataframe\">\n",
       "  <thead>\n",
       " <tr style=\"text-align: left;\">\n",
       "      <th>Epoch</th>\n",
       "      <th>Training Loss</th>\n",
       "      <th>Validation Loss</th>\n",
       "      <th>Accuracy</th>\n",
       "    </tr>\n",
       "  </thead>\n",
       "  <tbody>\n",
       "    <tr>\n",
       "      <td>1</td>\n",
       "      <td>No log</td>\n",
       "      <td>0.259829</td>\n",
       "      <td>0.900229</td>\n",
       "    </tr>\n",
       "    <tr>\n",
       "      <td>2</td>\n",
       "      <td>No log</td>\n",
       "      <td>0.263222</td>\n",
       "      <td>0.897936</td>\n",
       "    </tr>\n",
       "    <tr>\n",
       "      <td>3</td>\n",
       "      <td>No log</td>\n",
       "      <td>0.270581</td>\n",
       "      <td>0.902523</td>\n",
       "    </tr>\n",
       "    <tr>\n",
       "      <td>4</td>\n",
       "      <td>0.194700</td>\n",
       "      <td>0.287648</td>\n",
       "      <td>0.902523</td>\n",
       "    </tr>\n",
       "    <tr>\n",
       "      <td>5</td>\n",
       "      <td>0.194700</td>\n",
       "      <td>0.292909</td>\n",
       "      <td>0.900229</td>\n",
       "    </tr>\n",
       "  </tbody>\n",
       "</table><p>"
      ],
      "text/plain": [
       "<IPython.core.display.HTML object>"
      ]
     },
     "metadata": {},
     "output_type": "display_data"
    },
    {
     "data": {
      "text/plain": [
       "TrainOutput(global_step=660, training_loss=0.17371627056237424, metrics={'train_runtime': 340.517, 'train_samples_per_second': 988.923, 'train_steps_per_second': 1.938, 'total_flos': 1.115193354010368e+16, 'train_loss': 0.17371627056237424, 'epoch': 5.0})"
      ]
     },
     "execution_count": 4,
     "metadata": {},
     "output_type": "execute_result"
    }
   ],
   "source": [
    "trainer.train()"
   ]
  },
  {
   "cell_type": "code",
   "execution_count": null,
   "id": "39eb8328",
   "metadata": {},
   "outputs": [
    {
     "data": {
      "application/vnd.jupyter.widget-view+json": {
       "model_id": "e10702390e35471e94ff394542785ea8",
       "version_major": 2,
       "version_minor": 0
      },
      "text/plain": [
       "Upload 2 LFS files:   0%|          | 0/2 [00:00<?, ?it/s]"
      ]
     },
     "metadata": {},
     "output_type": "display_data"
    },
    {
     "data": {
      "application/vnd.jupyter.widget-view+json": {
       "model_id": "b634b08c1ffd4e1fbd7057ea52d4d630",
       "version_major": 2,
       "version_minor": 0
      },
      "text/plain": [
       "model.safetensors:   0%|          | 0.00/268M [00:00<?, ?B/s]"
      ]
     },
     "metadata": {},
     "output_type": "display_data"
    },
    {
     "data": {
      "application/vnd.jupyter.widget-view+json": {
       "model_id": "6495554da4474c39b82bc28c53ae52f3",
       "version_major": 2,
       "version_minor": 0
      },
      "text/plain": [
       "training_args.bin:   0%|          | 0.00/5.30k [00:00<?, ?B/s]"
      ]
     },
     "metadata": {},
     "output_type": "display_data"
    },
    {
     "data": {
      "text/plain": [
       "CommitInfo(commit_url='https://huggingface.co/LukasXperiaZ/distilBERT_SST-2/commit/59bcae90208d6f7755abede21d4c0be1771e99b8', commit_message='Add best DistilBERT model trained on SST-2', commit_description='', oid='59bcae90208d6f7755abede21d4c0be1771e99b8', pr_url=None, repo_url=RepoUrl('https://huggingface.co/LukasXperiaZ/distilBERT_SST-2', endpoint='https://huggingface.co', repo_type='model', repo_id='LukasXperiaZ/distilBERT_SST-2'), pr_revision=None, pr_num=None)"
      ]
     },
     "execution_count": 5,
     "metadata": {},
     "output_type": "execute_result"
    }
   ],
   "source": [
    "# Upload the model to huggingface\n",
    "trainer.push_to_hub(commit_message=\"Add best DistilBERT model trained on SST-2\")\n",
    "tokenizer.push_to_hub(\n",
    "    repo_id=repository_name,\n",
    "    commit_message=\"Upload BERT tokenizer for DistilBERT model\",\n",
    "    blocking=True,  # Wait until the push is complete\n",
    ")"
   ]
  },
  {
   "cell_type": "markdown",
   "id": "84827fd5",
   "metadata": {},
   "source": [
    "Validation\n",
    "===\n",
    "Execute from here on if you just want to evaluate"
   ]
  },
  {
   "cell_type": "code",
   "execution_count": 1,
   "id": "4aab982f",
   "metadata": {},
   "outputs": [
    {
     "name": "stdout",
     "output_type": "stream",
     "text": [
      "Validation set results (loaded from Hugging Face Hub): {'accuracy': 0.9025229357798165}\n"
     ]
    }
   ],
   "source": [
    "from transformers import AutoModelForSequenceClassification, AutoTokenizer\n",
    "from datasets import load_dataset\n",
    "from torch.utils.data import DataLoader\n",
    "import evaluate\n",
    "import torch\n",
    "import numpy as np\n",
    "\n",
    "# 1. Specify your repository name on Hugging Face Hub\n",
    "repository_name = 'LukasXperiaZ/distilBERT_SST-2'\n",
    "\n",
    "# 2. Load the tokenizer\n",
    "tokenizer = AutoTokenizer.from_pretrained(repository_name)\n",
    "\n",
    "# 3. Load the model from Hugging Face Hub\n",
    "model = AutoModelForSequenceClassification.from_pretrained(repository_name)\n",
    "\n",
    "# 4. Load the SST-2 validation dataset and tokenize it (if not already done)\n",
    "sst2_validation_dataset = load_dataset('glue', 'sst2', split='validation')\n",
    "\n",
    "def tokenize_function(examples):\n",
    "    return tokenizer(examples[\"sentence\"], truncation=True, padding='max_length', max_length=128)\n",
    "\n",
    "tokenized_sst2_validation = sst2_validation_dataset.map(tokenize_function, batched=True)\n",
    "tokenized_sst2_validation = tokenized_sst2_validation.remove_columns([\"sentence\", \"idx\"])\n",
    "tokenized_sst2_validation = tokenized_sst2_validation.rename_column(\"label\", \"labels\")\n",
    "tokenized_sst2_validation.set_format(\"torch\", columns=[\"input_ids\", \"attention_mask\", \"labels\"])\n",
    "\n",
    "# 5. Create a DataLoader for the validation set\n",
    "eval_dataloader = DataLoader(tokenized_sst2_validation, batch_size=32) # Use the same eval batch size\n",
    "\n",
    "# 6. Define the evaluation metric\n",
    "metric = evaluate.load(\"accuracy\")\n",
    "\n",
    "# 7. Move the model to the appropriate device\n",
    "device = torch.device(\"cuda\") if torch.cuda.is_available() else torch.device(\"cpu\")\n",
    "model.to(device)\n",
    "model.eval()\n",
    "\n",
    "# 8. Evaluation loop\n",
    "for batch in eval_dataloader:\n",
    "    batch = {k: v.to(device) for k, v in batch.items()}\n",
    "    with torch.no_grad():\n",
    "        outputs = model(**batch)\n",
    "    logits = outputs.logits\n",
    "    predictions = torch.argmax(logits, dim=-1)\n",
    "    metric.add_batch(predictions=predictions, references=batch['labels'])\n",
    "\n",
    "# 9. Print the evaluation results\n",
    "eval_metric = metric.compute()\n",
    "print(f\"Validation set results (loaded from Hugging Face Hub): {eval_metric}\")"
   ]
  }
 ],
 "metadata": {
  "kernelspec": {
   "display_name": ".venv",
   "language": "python",
   "name": "python3"
  },
  "language_info": {
   "codemirror_mode": {
    "name": "ipython",
    "version": 3
   },
   "file_extension": ".py",
   "mimetype": "text/x-python",
   "name": "python",
   "nbconvert_exporter": "python",
   "pygments_lexer": "ipython3",
   "version": "3.10.12"
  }
 },
 "nbformat": 4,
 "nbformat_minor": 5
}
