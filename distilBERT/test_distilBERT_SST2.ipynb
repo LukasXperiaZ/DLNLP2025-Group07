{
 "cells": [
  {
   "cell_type": "markdown",
   "id": "a5a706e5",
   "metadata": {},
   "source": [
    "Model exploration\n",
    "==="
   ]
  },
  {
   "cell_type": "code",
   "execution_count": 4,
   "id": "4405c89e",
   "metadata": {},
   "outputs": [
    {
     "name": "stderr",
     "output_type": "stream",
     "text": [
      "Some weights of DistilBertForSequenceClassification were not initialized from the model checkpoint at distilbert-base-uncased and are newly initialized: ['classifier.bias', 'classifier.weight', 'pre_classifier.bias', 'pre_classifier.weight']\n",
      "You should probably TRAIN this model on a down-stream task to be able to use it for predictions and inference.\n"
     ]
    },
    {
     "name": "stdout",
     "output_type": "stream",
     "text": [
      "DistilBertForSequenceClassification(\n",
      "  (distilbert): DistilBertModel(\n",
      "    (embeddings): Embeddings(\n",
      "      (word_embeddings): Embedding(30522, 768, padding_idx=0)\n",
      "      (position_embeddings): Embedding(512, 768)\n",
      "      (LayerNorm): LayerNorm((768,), eps=1e-12, elementwise_affine=True)\n",
      "      (dropout): Dropout(p=0.1, inplace=False)\n",
      "    )\n",
      "    (transformer): Transformer(\n",
      "      (layer): ModuleList(\n",
      "        (0-5): 6 x TransformerBlock(\n",
      "          (attention): DistilBertSdpaAttention(\n",
      "            (dropout): Dropout(p=0.1, inplace=False)\n",
      "            (q_lin): Linear(in_features=768, out_features=768, bias=True)\n",
      "            (k_lin): Linear(in_features=768, out_features=768, bias=True)\n",
      "            (v_lin): Linear(in_features=768, out_features=768, bias=True)\n",
      "            (out_lin): Linear(in_features=768, out_features=768, bias=True)\n",
      "          )\n",
      "          (sa_layer_norm): LayerNorm((768,), eps=1e-12, elementwise_affine=True)\n",
      "          (ffn): FFN(\n",
      "            (dropout): Dropout(p=0.1, inplace=False)\n",
      "            (lin1): Linear(in_features=768, out_features=3072, bias=True)\n",
      "            (lin2): Linear(in_features=3072, out_features=768, bias=True)\n",
      "            (activation): GELUActivation()\n",
      "          )\n",
      "          (output_layer_norm): LayerNorm((768,), eps=1e-12, elementwise_affine=True)\n",
      "        )\n",
      "      )\n",
      "    )\n",
      "  )\n",
      "  (pre_classifier): Linear(in_features=768, out_features=768, bias=True)\n",
      "  (classifier): Linear(in_features=768, out_features=2, bias=True)\n",
      "  (dropout): Dropout(p=0.2, inplace=False)\n",
      ")\n",
      "\n",
      "Teacher model parameters: 109,482,240\n",
      "Student model parameters: 66,955,010\n",
      "Student model is roughly 61.16% the size of the teacher model.\n"
     ]
    }
   ],
   "source": [
    "from transformers import BertModel, DistilBertForSequenceClassification, AutoTokenizer\n",
    "\n",
    "# 1. Load the Tokenizer (shared or compatible for both)\n",
    "# It's common to use the teacher's tokenizer or a tokenizer compatible with both.\n",
    "# For DistilBERT, the tokenizer is often the same as BERT's.\n",
    "tokenizer_name = 'bert-base-uncased' # Or 'distilbert-base-uncased'\n",
    "tokenizer = AutoTokenizer.from_pretrained(tokenizer_name)\n",
    "\n",
    "# 2. Load the Teacher Model (BERT-base)\n",
    "teacher_model_name = 'bert-base-uncased'\n",
    "teacher_model = BertModel.from_pretrained(teacher_model_name)\n",
    "teacher_model.eval() # Set to evaluation mode, as we're not training it here.\n",
    "\n",
    "# 3. Load the Student Model (DistilBERT-base)\n",
    "model_name = 'distilbert-base-uncased' # This is the model the paper's authors trained and released\n",
    "distilBERT = DistilBertForSequenceClassification.from_pretrained(model_name, num_labels=2)\n",
    "\n",
    "print(distilBERT)\n",
    "\n",
    "# Let's check the number of parameters to see the size difference\n",
    "teacher_params = sum(p.numel() for p in teacher_model.parameters())\n",
    "student_params = sum(p.numel() for p in distilBERT.parameters())\n",
    "\n",
    "print(f\"\\nTeacher model parameters: {teacher_params:,}\")\n",
    "print(f\"Student model parameters: {student_params:,}\")\n",
    "print(f\"Student model is roughly {student_params/teacher_params:.2%} the size of the teacher model.\")"
   ]
  },
  {
   "cell_type": "code",
   "execution_count": null,
   "id": "39efe485",
   "metadata": {},
   "outputs": [],
   "source": [
    "from datasets import load_dataset\n",
    "\n",
    "# Load the SST-2 dataset from Hugging Face Datasets\n",
    "sst2_dataset = load_dataset('glue', 'sst2')\n",
    "\n",
    "# The dataset object contains train, validation (which we'll use as development), and test splits\n",
    "print(sst2_dataset)\n",
    "\n",
    "# Define a function to tokenize the text data with padding and truncation\n",
    "max_length = 128\n",
    "def tokenize_function(examples):\n",
    "    return tokenizer(examples[\"sentence\"], truncation=True, padding='max_length', max_length=max_length)\n",
    "\n",
    "# Apply the tokenization to all splits of the dataset\n",
    "tokenized_sst2 = sst2_dataset.map(tokenize_function, batched=True)\n",
    "\n",
    "# The 'label' column is already numerical, so we don't need to process it further for SST-2.\n",
    "# We will, however, remove the original 'sentence' column as the model will use the tokenized inputs.\n",
    "tokenized_sst2 = tokenized_sst2.remove_columns([\"sentence\", \"idx\"])\n",
    "\n",
    "# Rename the 'label' column to 'labels' as that's the expected name by PyTorch models\n",
    "tokenized_sst2 = tokenized_sst2.rename_column(\"label\", \"labels\")\n",
    "\n",
    "print(tokenized_sst2)\n",
    "print(tokenized_sst2[\"train\"][:1])"
   ]
  },
  {
   "cell_type": "markdown",
   "id": "19f5733e",
   "metadata": {},
   "source": [
    "Training\n",
    "==="
   ]
  },
  {
   "cell_type": "code",
   "execution_count": null,
   "id": "6059679e",
   "metadata": {},
   "outputs": [
    {
     "name": "stderr",
     "output_type": "stream",
     "text": [
      "Some weights of DistilBertForSequenceClassification were not initialized from the model checkpoint at distilbert-base-uncased and are newly initialized: ['classifier.bias', 'classifier.weight', 'pre_classifier.bias', 'pre_classifier.weight']\n",
      "You should probably TRAIN this model on a down-stream task to be able to use it for predictions and inference.\n"
     ]
    },
    {
     "name": "stdout",
     "output_type": "stream",
     "text": [
      "Trainer and model are ready for training!\n"
     ]
    }
   ],
   "source": [
    "from transformers import TrainingArguments, Trainer\n",
    "import evaluate\n",
    "import numpy as np\n",
    "\n",
    "repository_name = \"LukasXperiaZ/distilBERT_SST-2\"\n",
    "\n",
    "# 1. Define Training Arguments\n",
    "output_dir = './distilbert-sst2' # Directory to save the trained model and logs\n",
    "training_args = TrainingArguments(\n",
    "    output_dir=output_dir,\n",
    "    learning_rate=2e-5,\n",
    "    per_device_train_batch_size=512,    # 512 good for 24 GB VRAM\n",
    "    per_device_eval_batch_size=32,\n",
    "    num_train_epochs=5,\n",
    "    weight_decay=0.01,\n",
    "    eval_strategy=\"epoch\", # Evaluate at the end of each epoch\n",
    "    save_strategy=\"epoch\", # Save the model at the end of each epoch\n",
    "    load_best_model_at_end=True, # Load the best model based on evaluation metric\n",
    "    metric_for_best_model=\"accuracy\",\n",
    "    report_to=\"none\", # Or \"wandb\" if you want to use Weights & Biases for logging\n",
    "    hub_model_id=repository_name\n",
    ")\n",
    "\n",
    "# 2. Load the Pre-trained Model for Sequence Classification\n",
    "num_labels = len(sst2_dataset['train'].features['label'].names) # Get the number of unique labels (0 and 1 for SST-2)\n",
    "model = distilBERT\n",
    "\n",
    "# 3. Load the Evaluation Metric\n",
    "metric = evaluate.load(\"accuracy\")\n",
    "\n",
    "def compute_metrics(eval_pred):\n",
    "    logits, labels = eval_pred\n",
    "    predictions = np.argmax(logits, axis=-1)\n",
    "    return metric.compute(predictions=predictions, references=labels)\n",
    "\n",
    "# 4. Create a Trainer Instance\n",
    "trainer = Trainer(\n",
    "    model=model,\n",
    "    args=training_args,\n",
    "    train_dataset=tokenized_sst2[\"train\"],\n",
    "    eval_dataset=tokenized_sst2[\"validation\"], # Using the 'validation' split as the development set\n",
    "    compute_metrics=compute_metrics,\n",
    ")\n",
    "\n",
    "print(\"Trainer and model are ready for training!\")"
   ]
  },
  {
   "cell_type": "code",
   "execution_count": null,
   "id": "ad2f99b3",
   "metadata": {},
   "outputs": [],
   "source": [
    "trainer.train()"
   ]
  },
  {
   "cell_type": "code",
   "execution_count": null,
   "id": "39eb8328",
   "metadata": {},
   "outputs": [],
   "source": [
    "# Upload the model to huggingface\n",
    "trainer.push_to_hub(commit_message=\"Add best DistilBERT model trained on SST-2\")\n",
    "tokenizer.push_to_hub(\n",
    "    repo_id=repository_name,\n",
    "    commit_message=\"Upload BERT tokenizer for DistilBERT model\",\n",
    "    blocking=True,  # Wait until the push is complete\n",
    ")"
   ]
  },
  {
   "cell_type": "markdown",
   "id": "84827fd5",
   "metadata": {},
   "source": [
    "Validation\n",
    "===\n",
    "Execute from here on if you just want to evaluate"
   ]
  },
  {
   "cell_type": "code",
   "execution_count": 1,
   "id": "4aab982f",
   "metadata": {},
   "outputs": [
    {
     "name": "stdout",
     "output_type": "stream",
     "text": [
      "Validation set results (loaded from Hugging Face Hub): {'accuracy': 0.9025229357798165}\n"
     ]
    }
   ],
   "source": [
    "from transformers import AutoModelForSequenceClassification, AutoTokenizer\n",
    "from datasets import load_dataset\n",
    "from torch.utils.data import DataLoader\n",
    "import evaluate\n",
    "import torch\n",
    "\n",
    "# 1. Specify your repository name on Hugging Face Hub\n",
    "repository_name = 'LukasXperiaZ/distilBERT_SST-2'\n",
    "\n",
    "# 2. Load the tokenizer\n",
    "tokenizer = AutoTokenizer.from_pretrained(repository_name)\n",
    "\n",
    "# 3. Load the model from Hugging Face Hub\n",
    "model = AutoModelForSequenceClassification.from_pretrained(repository_name)\n",
    "\n",
    "# 4. Load the SST-2 validation dataset and tokenize it (if not already done)\n",
    "sst2_validation_dataset = load_dataset('glue', 'sst2', split='validation')\n",
    "\n",
    "def tokenize_function(examples):\n",
    "    return tokenizer(examples[\"sentence\"], truncation=True, padding='max_length', max_length=128)\n",
    "\n",
    "tokenized_sst2_validation = sst2_validation_dataset.map(tokenize_function, batched=True)\n",
    "tokenized_sst2_validation = tokenized_sst2_validation.remove_columns([\"sentence\", \"idx\"])\n",
    "tokenized_sst2_validation = tokenized_sst2_validation.rename_column(\"label\", \"labels\")\n",
    "tokenized_sst2_validation.set_format(\"torch\", columns=[\"input_ids\", \"attention_mask\", \"labels\"])\n",
    "\n",
    "# 5. Create a DataLoader for the validation set\n",
    "eval_dataloader = DataLoader(tokenized_sst2_validation, batch_size=32) # Use the same eval batch size\n",
    "\n",
    "# 6. Define the evaluation metric\n",
    "metric = evaluate.load(\"accuracy\")\n",
    "\n",
    "# 7. Move the model to the appropriate device\n",
    "device = torch.device(\"cuda\") if torch.cuda.is_available() else torch.device(\"cpu\")\n",
    "model.to(device)\n",
    "model.eval()\n",
    "\n",
    "# 8. Evaluation loop\n",
    "for batch in eval_dataloader:\n",
    "    batch = {k: v.to(device) for k, v in batch.items()}\n",
    "    with torch.no_grad():\n",
    "        outputs = model(**batch)\n",
    "    logits = outputs.logits\n",
    "    predictions = torch.argmax(logits, dim=-1)\n",
    "    metric.add_batch(predictions=predictions, references=batch['labels'])\n",
    "\n",
    "# 9. Print the evaluation results\n",
    "eval_metric = metric.compute()\n",
    "print(f\"Validation set results (loaded from Hugging Face Hub): {eval_metric}\")"
   ]
  }
 ],
 "metadata": {
  "kernelspec": {
   "display_name": "distilbert-py3.10",
   "language": "python",
   "name": "python3"
  },
  "language_info": {
   "codemirror_mode": {
    "name": "ipython",
    "version": 3
   },
   "file_extension": ".py",
   "mimetype": "text/x-python",
   "name": "python",
   "nbconvert_exporter": "python",
   "pygments_lexer": "ipython3",
   "version": "3.10.12"
  }
 },
 "nbformat": 4,
 "nbformat_minor": 5
}
